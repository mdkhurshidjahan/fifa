{
 "cells": [
  {
   "cell_type": "code",
   "execution_count": 1,
   "metadata": {
    "_cell_guid": "b1076dfc-b9ad-4769-8c92-a6c4dae69d19",
    "_kg_hide-input": true,
    "_uuid": "8f2839f25d086af736a60e9eeb907d3b93b6e0e5",
    "execution": {
     "iopub.execute_input": "2023-05-25T09:03:54.091840Z",
     "iopub.status.busy": "2023-05-25T09:03:54.091061Z",
     "iopub.status.idle": "2023-05-25T09:03:55.066101Z",
     "shell.execute_reply": "2023-05-25T09:03:55.065287Z",
     "shell.execute_reply.started": "2023-05-25T06:51:36.217465Z"
    },
    "papermill": {
     "duration": 1.055241,
     "end_time": "2023-05-25T09:03:55.066249",
     "exception": false,
     "start_time": "2023-05-25T09:03:54.011008",
     "status": "completed"
    },
    "tags": []
   },
   "outputs": [],
   "source": [
    "import numpy as np\n",
    "import pandas as pd   \n",
    "import random \n",
    "import plotly.graph_objects as go\n",
    "import plotly.express as px\n",
    "import plotly\n",
    "import os       "
   ]
  },
  {
   "cell_type": "code",
   "execution_count": 2,
   "metadata": {
    "_cell_guid": "79c7e3d0-c299-4dcb-8224-4455121ee9b0",
    "_kg_hide-input": true,
    "_uuid": "d629ff2d2480ee46fbb7e2d37f6b5fab8052498a",
    "execution": {
     "iopub.execute_input": "2023-05-25T09:03:55.220745Z",
     "iopub.status.busy": "2023-05-25T09:03:55.219946Z",
     "iopub.status.idle": "2023-05-25T09:03:57.541640Z",
     "shell.execute_reply": "2023-05-25T09:03:57.540838Z",
     "shell.execute_reply.started": "2023-05-25T06:51:37.357336Z"
    },
    "papermill": {
     "duration": 2.402506,
     "end_time": "2023-05-25T09:03:57.541803",
     "exception": false,
     "start_time": "2023-05-25T09:03:55.139297",
     "status": "completed"
    },
    "tags": []
   },
   "outputs": [],
   "source": [
    "df_19 = pd.read_csv(\"players_19.csv\", error_bad_lines=False)\n",
    "df_20 = pd.read_csv(\"players_20.csv\", error_bad_lines=False)\n",
    "df_21 = pd.read_csv(\"players_21.csv\", error_bad_lines=False)\n",
    "df_league = pd.read_csv(\"teams_and_leagues.csv\", error_bad_lines=False)"
   ]
  },
  {
   "cell_type": "code",
   "execution_count": 4,
   "metadata": {
    "_kg_hide-input": true,
    "execution": {
     "iopub.execute_input": "2023-05-25T09:03:58.282515Z",
     "iopub.status.busy": "2023-05-25T09:03:58.270990Z",
     "iopub.status.idle": "2023-05-25T09:04:00.312294Z",
     "shell.execute_reply": "2023-05-25T09:04:00.311629Z",
     "shell.execute_reply.started": "2023-05-25T06:51:39.917049Z"
    },
    "papermill": {
     "duration": 2.122261,
     "end_time": "2023-05-25T09:04:00.312421",
     "exception": false,
     "start_time": "2023-05-25T09:03:58.190160",
     "status": "completed"
    },
    "tags": []
   },
   "outputs": [
    {
     "data": {
      "text/html": [
       "<div>\n",
       "<style scoped>\n",
       "    .dataframe tbody tr th:only-of-type {\n",
       "        vertical-align: middle;\n",
       "    }\n",
       "\n",
       "    .dataframe tbody tr th {\n",
       "        vertical-align: top;\n",
       "    }\n",
       "\n",
       "    .dataframe thead th {\n",
       "        text-align: right;\n",
       "    }\n",
       "</style>\n",
       "<table border=\"1\" class=\"dataframe\">\n",
       "  <thead>\n",
       "    <tr style=\"text-align: right;\">\n",
       "      <th></th>\n",
       "      <th>ls</th>\n",
       "      <th>st</th>\n",
       "      <th>rs</th>\n",
       "      <th>lw</th>\n",
       "      <th>lf</th>\n",
       "      <th>cf</th>\n",
       "      <th>rf</th>\n",
       "      <th>rw</th>\n",
       "      <th>lam</th>\n",
       "      <th>cam</th>\n",
       "      <th>...</th>\n",
       "      <th>lwb</th>\n",
       "      <th>ldm</th>\n",
       "      <th>cdm</th>\n",
       "      <th>rdm</th>\n",
       "      <th>rwb</th>\n",
       "      <th>lb</th>\n",
       "      <th>lcb</th>\n",
       "      <th>cb</th>\n",
       "      <th>rcb</th>\n",
       "      <th>rb</th>\n",
       "    </tr>\n",
       "  </thead>\n",
       "  <tbody>\n",
       "    <tr>\n",
       "      <th>0</th>\n",
       "      <td>89</td>\n",
       "      <td>89</td>\n",
       "      <td>89</td>\n",
       "      <td>93</td>\n",
       "      <td>93</td>\n",
       "      <td>93</td>\n",
       "      <td>93</td>\n",
       "      <td>93</td>\n",
       "      <td>93</td>\n",
       "      <td>93</td>\n",
       "      <td>...</td>\n",
       "      <td>68</td>\n",
       "      <td>66</td>\n",
       "      <td>66</td>\n",
       "      <td>66</td>\n",
       "      <td>68</td>\n",
       "      <td>63</td>\n",
       "      <td>52</td>\n",
       "      <td>52</td>\n",
       "      <td>52</td>\n",
       "      <td>63</td>\n",
       "    </tr>\n",
       "    <tr>\n",
       "      <th>1</th>\n",
       "      <td>91</td>\n",
       "      <td>91</td>\n",
       "      <td>91</td>\n",
       "      <td>89</td>\n",
       "      <td>90</td>\n",
       "      <td>90</td>\n",
       "      <td>90</td>\n",
       "      <td>89</td>\n",
       "      <td>88</td>\n",
       "      <td>88</td>\n",
       "      <td>...</td>\n",
       "      <td>65</td>\n",
       "      <td>61</td>\n",
       "      <td>61</td>\n",
       "      <td>61</td>\n",
       "      <td>65</td>\n",
       "      <td>61</td>\n",
       "      <td>53</td>\n",
       "      <td>53</td>\n",
       "      <td>53</td>\n",
       "      <td>61</td>\n",
       "    </tr>\n",
       "    <tr>\n",
       "      <th>2</th>\n",
       "      <td>84</td>\n",
       "      <td>84</td>\n",
       "      <td>84</td>\n",
       "      <td>90</td>\n",
       "      <td>89</td>\n",
       "      <td>89</td>\n",
       "      <td>89</td>\n",
       "      <td>90</td>\n",
       "      <td>90</td>\n",
       "      <td>90</td>\n",
       "      <td>...</td>\n",
       "      <td>66</td>\n",
       "      <td>61</td>\n",
       "      <td>61</td>\n",
       "      <td>61</td>\n",
       "      <td>66</td>\n",
       "      <td>61</td>\n",
       "      <td>46</td>\n",
       "      <td>46</td>\n",
       "      <td>46</td>\n",
       "      <td>61</td>\n",
       "    </tr>\n",
       "    <tr>\n",
       "      <th>3</th>\n",
       "      <td>0</td>\n",
       "      <td>0</td>\n",
       "      <td>0</td>\n",
       "      <td>0</td>\n",
       "      <td>0</td>\n",
       "      <td>0</td>\n",
       "      <td>0</td>\n",
       "      <td>0</td>\n",
       "      <td>0</td>\n",
       "      <td>0</td>\n",
       "      <td>...</td>\n",
       "      <td>0</td>\n",
       "      <td>0</td>\n",
       "      <td>0</td>\n",
       "      <td>0</td>\n",
       "      <td>0</td>\n",
       "      <td>0</td>\n",
       "      <td>0</td>\n",
       "      <td>0</td>\n",
       "      <td>0</td>\n",
       "      <td>0</td>\n",
       "    </tr>\n",
       "    <tr>\n",
       "      <th>4</th>\n",
       "      <td>83</td>\n",
       "      <td>83</td>\n",
       "      <td>83</td>\n",
       "      <td>89</td>\n",
       "      <td>88</td>\n",
       "      <td>88</td>\n",
       "      <td>88</td>\n",
       "      <td>89</td>\n",
       "      <td>89</td>\n",
       "      <td>89</td>\n",
       "      <td>...</td>\n",
       "      <td>66</td>\n",
       "      <td>63</td>\n",
       "      <td>63</td>\n",
       "      <td>63</td>\n",
       "      <td>66</td>\n",
       "      <td>61</td>\n",
       "      <td>49</td>\n",
       "      <td>49</td>\n",
       "      <td>49</td>\n",
       "      <td>61</td>\n",
       "    </tr>\n",
       "    <tr>\n",
       "      <th>5</th>\n",
       "      <td>82</td>\n",
       "      <td>82</td>\n",
       "      <td>82</td>\n",
       "      <td>87</td>\n",
       "      <td>87</td>\n",
       "      <td>87</td>\n",
       "      <td>87</td>\n",
       "      <td>87</td>\n",
       "      <td>88</td>\n",
       "      <td>88</td>\n",
       "      <td>...</td>\n",
       "      <td>77</td>\n",
       "      <td>77</td>\n",
       "      <td>77</td>\n",
       "      <td>77</td>\n",
       "      <td>77</td>\n",
       "      <td>73</td>\n",
       "      <td>66</td>\n",
       "      <td>66</td>\n",
       "      <td>66</td>\n",
       "      <td>73</td>\n",
       "    </tr>\n",
       "  </tbody>\n",
       "</table>\n",
       "<p>6 rows × 26 columns</p>\n",
       "</div>"
      ],
      "text/plain": [
       "   ls  st  rs  lw  lf  cf  rf  rw  lam  cam  ...  lwb  ldm  cdm  rdm  rwb  lb  \\\n",
       "0  89  89  89  93  93  93  93  93   93   93  ...   68   66   66   66   68  63   \n",
       "1  91  91  91  89  90  90  90  89   88   88  ...   65   61   61   61   65  61   \n",
       "2  84  84  84  90  89  89  89  90   90   90  ...   66   61   61   61   66  61   \n",
       "3   0   0   0   0   0   0   0   0    0    0  ...    0    0    0    0    0   0   \n",
       "4  83  83  83  89  88  88  88  89   89   89  ...   66   63   63   63   66  61   \n",
       "5  82  82  82  87  87  87  87  87   88   88  ...   77   77   77   77   77  73   \n",
       "\n",
       "   lcb  cb  rcb  rb  \n",
       "0   52  52   52  63  \n",
       "1   53  53   53  61  \n",
       "2   46  46   46  61  \n",
       "3    0   0    0   0  \n",
       "4   49  49   49  61  \n",
       "5   66  66   66  73  \n",
       "\n",
       "[6 rows x 26 columns]"
      ]
     },
     "execution_count": 4,
     "metadata": {},
     "output_type": "execute_result"
    }
   ],
   "source": [
    "attributes = ['ls', 'st', 'rs', 'lw', 'lf', 'cf', 'rf', 'rw', 'lam', 'cam', 'ram',\n",
    "       'lm', 'lcm', 'cm', 'rcm', 'rm', 'lwb', 'ldm', 'cdm', 'rdm', 'rwb', 'lb',\n",
    "       'lcb', 'cb', 'rcb', 'rb']\n",
    "\n",
    "for attribute in attributes:\n",
    "    split_values = df_20[attribute].str.split(\"+\", n=1, expand=True)\n",
    "    df_20[attribute] = split_values[0]\n",
    "df_20[attributes] = df_20[attributes].fillna(0)\n",
    "df_20[attributes] = df_20[attributes].astype(int)\n",
    "df_20[attributes].head(6)\n"
   ]
  },
  {
   "cell_type": "code",
   "execution_count": 5,
   "metadata": {
    "_kg_hide-input": true,
    "execution": {
     "iopub.execute_input": "2023-05-25T09:04:00.609327Z",
     "iopub.status.busy": "2023-05-25T09:04:00.608271Z",
     "iopub.status.idle": "2023-05-25T09:04:00.652788Z",
     "shell.execute_reply": "2023-05-25T09:04:00.652006Z",
     "shell.execute_reply.started": "2023-05-25T06:51:42.034897Z"
    },
    "papermill": {
     "duration": 0.124049,
     "end_time": "2023-05-25T09:04:00.652953",
     "exception": false,
     "start_time": "2023-05-25T09:04:00.528904",
     "status": "completed"
    },
    "tags": []
   },
   "outputs": [
    {
     "data": {
      "text/plain": [
       "(18278, 104)"
      ]
     },
     "execution_count": 5,
     "metadata": {},
     "output_type": "execute_result"
    }
   ],
   "source": [
    "df_20 = pd.concat([df_20, pd.get_dummies(df_20['work_rate'])], axis=1)\n",
    "df_20 = df_20.drop(['work_rate'], axis=1)\n",
    "df_20.shape"
   ]
  },
  {
   "cell_type": "code",
   "execution_count": 6,
   "metadata": {
    "_kg_hide-input": true,
    "execution": {
     "iopub.execute_input": "2023-05-25T09:04:00.959017Z",
     "iopub.status.busy": "2023-05-25T09:04:00.957881Z",
     "iopub.status.idle": "2023-05-25T09:04:01.019484Z",
     "shell.execute_reply": "2023-05-25T09:04:01.020155Z",
     "shell.execute_reply.started": "2023-05-25T06:51:42.100531Z"
    },
    "papermill": {
     "duration": 0.147838,
     "end_time": "2023-05-25T09:04:01.020341",
     "exception": false,
     "start_time": "2023-05-25T09:04:00.872503",
     "status": "completed"
    },
    "tags": []
   },
   "outputs": [
    {
     "data": {
      "text/plain": [
       "0    6\n",
       "1    2\n",
       "2    2\n",
       "3    1\n",
       "4    1\n",
       "5    6\n",
       "Name: birth_month, dtype: int64"
      ]
     },
     "execution_count": 6,
     "metadata": {},
     "output_type": "execute_result"
    }
   ],
   "source": [
    "# Split the dob column to fetch month\n",
    "new = df_20[\"dob\"].str.split(\"-\", n = 2, expand = True)\n",
    "df_20[\"birth_month\"] = new[1].astype(int)\n",
    "df_20[\"birth_month\"].head(6)"
   ]
  },
  {
   "cell_type": "code",
   "execution_count": 7,
   "metadata": {
    "_kg_hide-input": true,
    "execution": {
     "iopub.execute_input": "2023-05-25T09:04:01.330445Z",
     "iopub.status.busy": "2023-05-25T09:04:01.329568Z",
     "iopub.status.idle": "2023-05-25T09:04:01.822373Z",
     "shell.execute_reply": "2023-05-25T09:04:01.821697Z",
     "shell.execute_reply.started": "2023-05-25T06:51:42.182026Z"
    },
    "papermill": {
     "duration": 0.578663,
     "end_time": "2023-05-25T09:04:01.822501",
     "exception": false,
     "start_time": "2023-05-25T09:04:01.243838",
     "status": "completed"
    },
    "tags": []
   },
   "outputs": [
    {
     "data": {
      "text/plain": [
       "(18278, 119)"
      ]
     },
     "execution_count": 7,
     "metadata": {},
     "output_type": "execute_result"
    }
   ],
   "source": [
    "df_20 = pd.concat([df_20, df_20['player_positions'].str.get_dummies(sep=', ').add_prefix('Position_')], axis=1)\n",
    "df_20 = df_20.drop(['player_positions'], axis=1)\n",
    "df_20.shape\n"
   ]
  },
  {
   "cell_type": "markdown",
   "metadata": {
    "papermill": {
     "duration": 0.073551,
     "end_time": "2023-05-25T09:04:01.970705",
     "exception": false,
     "start_time": "2023-05-25T09:04:01.897154",
     "status": "completed"
    },
    "tags": []
   },
   "source": [
    "Creation of a BMI feature using Weight_kg & Height_cm and use it instead of 'body_type' feature."
   ]
  },
  {
   "cell_type": "code",
   "execution_count": 8,
   "metadata": {
    "_kg_hide-input": true,
    "execution": {
     "iopub.execute_input": "2023-05-25T09:04:02.129935Z",
     "iopub.status.busy": "2023-05-25T09:04:02.129048Z",
     "iopub.status.idle": "2023-05-25T09:04:02.151145Z",
     "shell.execute_reply": "2023-05-25T09:04:02.150489Z",
     "shell.execute_reply.started": "2023-05-25T06:51:42.686120Z"
    },
    "papermill": {
     "duration": 0.106144,
     "end_time": "2023-05-25T09:04:02.151279",
     "exception": false,
     "start_time": "2023-05-25T09:04:02.045135",
     "status": "completed"
    },
    "tags": []
   },
   "outputs": [
    {
     "data": {
      "text/plain": [
       "0    24.913495\n",
       "1    23.735308\n",
       "2    22.204082\n",
       "3    24.615211\n",
       "4    24.163265\n",
       "5    21.366869\n",
       "Name: bmi, dtype: float64"
      ]
     },
     "execution_count": 8,
     "metadata": {},
     "output_type": "execute_result"
    }
   ],
   "source": [
    "df_updated['body_index'] = df_updated['mass_kg'] / (df_updated['size_cm'] / 100) ** 2\n",
    "df_current['body_index'] = df_current['mass_kg'] / (df_current['size_cm'] / 100) ** 2\n",
    "df_old['body_index'] = df_old['mass_kg'] / (df_old['size_cm'] / 100) ** 2\n",
    "df_current['body_index'].head(6)\n"
   ]
  },
  {
   "cell_type": "code",
   "execution_count": 9,
   "metadata": {
    "_kg_hide-input": true,
    "execution": {
     "iopub.execute_input": "2023-05-25T09:04:02.455238Z",
     "iopub.status.busy": "2023-05-25T09:04:02.454405Z",
     "iopub.status.idle": "2023-05-25T09:04:02.490036Z",
     "shell.execute_reply": "2023-05-25T09:04:02.490683Z",
     "shell.execute_reply.started": "2023-05-25T06:51:42.717552Z"
    },
    "papermill": {
     "duration": 0.114996,
     "end_time": "2023-05-25T09:04:02.490866",
     "exception": false,
     "start_time": "2023-05-25T09:04:02.375870",
     "status": "completed"
    },
    "tags": []
   },
   "outputs": [],
   "source": [
    "data_missing = df_20.isnull().sum().sort_values(ascending=False)\n",
    "data_missing = data_missing.reset_index(drop=False)\n",
    "data_missing = data_missing.rename(columns={\"index\": \"Fields\", 0:\n"
   ]
  },
  {
   "cell_type": "code",
   "execution_count": 11,
   "metadata": {
    "_kg_hide-input": true,
    "execution": {
     "iopub.execute_input": "2023-05-25T09:04:04.073892Z",
     "iopub.status.busy": "2023-05-25T09:04:04.072806Z",
     "iopub.status.idle": "2023-05-25T09:04:04.143307Z",
     "shell.execute_reply": "2023-05-25T09:04:04.142596Z",
     "shell.execute_reply.started": "2023-05-25T06:51:44.042040Z"
    },
    "papermill": {
     "duration": 0.150447,
     "end_time": "2023-05-25T09:04:04.143438",
     "exception": false,
     "start_time": "2023-05-25T09:04:03.992991",
     "status": "completed"
    },
    "tags": []
   },
   "outputs": [
    {
     "data": {
      "text/plain": [
       "short_name      0\n",
       "age             0\n",
       "dob             0\n",
       "height_cm       0\n",
       "weight_kg       0\n",
       "               ..\n",
       "Position_RM     0\n",
       "Position_RW     0\n",
       "Position_RWB    0\n",
       "Position_ST     0\n",
       "bmi             0\n",
       "Length: 120, dtype: int64"
      ]
     },
     "execution_count": 11,
     "metadata": {},
     "output_type": "execute_result"
    }
   ],
   "source": [
    "attributes_to_fill = [\"dribbling\", \"defending\", \"physic\", \"passing\", \"shooting\", \"pace\"]\n",
    "for attribute in attributes_to_fill:\n",
    "    df_20[attribute] = df_20[attribute].fillna(df_20[attribute].median())\n",
    "\n",
    "df_20 = df_20.fillna(0)\n",
    "df_20.isnull().sum()"
   ]
  },
  {
   "cell_type": "code",
   "execution_count": 26,
   "metadata": {
    "execution": {
     "iopub.execute_input": "2023-05-25T09:04:15.139817Z",
     "iopub.status.busy": "2023-05-25T09:04:15.138682Z",
     "iopub.status.idle": "2023-05-25T09:04:15.142493Z",
     "shell.execute_reply": "2023-05-25T09:04:15.143125Z",
     "shell.execute_reply.started": "2023-05-25T06:51:47.162413Z"
    },
    "papermill": {
     "duration": 0.166716,
     "end_time": "2023-05-25T09:04:15.143314",
     "exception": false,
     "start_time": "2023-05-25T09:04:14.976598",
     "status": "completed"
    },
    "tags": []
   },
   "outputs": [
    {
     "name": "stdout",
     "output_type": "stream",
     "text": [
      "t = 0.7824274220514761\n",
      "p = 0.437146298508187\n"
     ]
    }
   ],
   "source": [
    "sample_a = a['attacking_finishing'].sample(n=30)\n",
    "sample_b = b['attacking_finishing'].sample(n=30)\n",
    "\n",
    "# Cross Checking with the internal scipy function\n",
    "t_statistic, p_value = stats.ttest_ind(sample_a, sample_b, equal_var=False)\n",
    "print(\"t = \" + str(t_statistic))\n",
    "print(\"p = \" + str(p_value))"
   ]
  },
  {
   "cell_type": "raw",
   "metadata": {
    "papermill": {
     "duration": 0.168989,
     "end_time": "2023-05-25T09:04:15.950066",
     "exception": false,
     "start_time": "2023-05-25T09:04:15.781077",
     "status": "completed"
    },
    "tags": []
   },
   "source": [
    "Pick Top 5 Players per Position\n",
    "Available Positions: CAM, CB, CDM, CF, CM, GK, LB, LM, LW, LWB, RB, RM, RW, RWB, ST"
   ]
  },
  {
   "cell_type": "markdown",
   "metadata": {
    "papermill": {
     "duration": 0.157636,
     "end_time": "2023-05-25T09:04:18.552074",
     "exception": false,
     "start_time": "2023-05-25T09:04:18.394438",
     "status": "completed"
    },
    "tags": []
   },
   "source": [
    "# Recommend Alternate Playing Position per Player"
   ]
  },
  {
   "cell_type": "code",
   "execution_count": 31,
   "metadata": {
    "_kg_hide-input": true,
    "execution": {
     "iopub.execute_input": "2023-05-25T09:04:18.881242Z",
     "iopub.status.busy": "2023-05-25T09:04:18.877132Z",
     "iopub.status.idle": "2023-05-25T09:04:18.884855Z",
     "shell.execute_reply": "2023-05-25T09:04:18.884051Z",
     "shell.execute_reply.started": "2023-05-25T06:51:47.768859Z"
    },
    "papermill": {
     "duration": 0.174836,
     "end_time": "2023-05-25T09:04:18.885027",
     "exception": false,
     "start_time": "2023-05-25T09:04:18.710191",
     "status": "completed"
    },
    "tags": []
   },
   "outputs": [],
   "source": [
    "import re\n",
    "\n",
    "def discover_alternate_positions(player_name, player_df):\n",
    "    player_idx = player_df[player_df['full_name'] == player_name].index[0]\n",
    "    attribute_sample = player_df.iloc[:, 68:94]\n",
    "    top_positions = attribute_sample.loc[player_idx].nlargest(5).index[0:].values.tolist()\n",
    "    \n",
    "    attribute_sample_2 = player_df.iloc[player_idx, 104:119]\n",
    "    selected_positions = attribute_sample_2[attribute_sample_2 == 1].index[:].values.tolist()\n",
    "    selected_positions = list(map(lambda x: x.lower(), selected_positions))\n",
    "    selected_positions = [re.sub(r'position_', '', i) for i in selected_positions]\n",
    "    \n",
    "    alternate_positions = set(top_positions) - set(selected_positions)\n",
    "    \n",
    "    print(\"Additional Playing Roles for {} are:\".format(player_name))\n",
    "    for position in alternate_positions:\n",
    "        print(\"Position: {}, Rating: {}\".format(str.upper(position), player_df[position].values[player_idx]))\n",
    "    \n",
    "    return None\n"
   ]
  },
  {
   "cell_type": "markdown",
   "metadata": {
    "papermill": {
     "duration": 0.157983,
     "end_time": "2023-05-25T09:04:19.201976",
     "exception": false,
     "start_time": "2023-05-25T09:04:19.043993",
     "status": "completed"
    },
    "tags": []
   },
   "source": [
    "# P. Pogba"
   ]
  },
  {
   "cell_type": "code",
   "execution_count": 32,
   "metadata": {
    "execution": {
     "iopub.execute_input": "2023-05-25T09:04:19.533975Z",
     "iopub.status.busy": "2023-05-25T09:04:19.532592Z",
     "iopub.status.idle": "2023-05-25T09:04:19.541161Z",
     "shell.execute_reply": "2023-05-25T09:04:19.540423Z",
     "shell.execute_reply.started": "2023-05-25T06:51:47.791659Z"
    },
    "papermill": {
     "duration": 0.180575,
     "end_time": "2023-05-25T09:04:19.541289",
     "exception": false,
     "start_time": "2023-05-25T09:04:19.360714",
     "status": "completed"
    },
    "tags": []
   },
   "outputs": [
    {
     "name": "stdout",
     "output_type": "stream",
     "text": [
      "Alternate Playing Positions for P. Pogba are\n",
      "Position: LAM, Rating: 84\n",
      "Position: LCM, Rating: 84\n",
      "Position: CAM, Rating: 84\n",
      "Position: RAM, Rating: 84\n"
     ]
    }
   ],
   "source": [
    "alternate_position(\"P. Pogba\", df_20)"
   ]
  },
  {
   "cell_type": "markdown",
   "metadata": {
    "papermill": {
     "duration": 0.179096,
     "end_time": "2023-05-25T09:04:19.877382",
     "exception": false,
     "start_time": "2023-05-25T09:04:19.698286",
     "status": "completed"
    },
    "tags": []
   },
   "source": [
    "# M. Salah"
   ]
  },
  {
   "cell_type": "code",
   "execution_count": 33,
   "metadata": {
    "execution": {
     "iopub.execute_input": "2023-05-25T09:04:20.204901Z",
     "iopub.status.busy": "2023-05-25T09:04:20.204116Z",
     "iopub.status.idle": "2023-05-25T09:04:20.212640Z",
     "shell.execute_reply": "2023-05-25T09:04:20.211899Z",
     "shell.execute_reply.started": "2023-05-25T06:51:47.818805Z"
    },
    "papermill": {
     "duration": 0.176094,
     "end_time": "2023-05-25T09:04:20.212791",
     "exception": false,
     "start_time": "2023-05-25T09:04:20.036697",
     "status": "completed"
    },
    "tags": []
   },
   "outputs": [
    {
     "name": "stdout",
     "output_type": "stream",
     "text": [
      "Alternate Playing Positions for M. Salah are\n",
      "Position: RF, Rating: 88\n",
      "Position: LF, Rating: 88\n",
      "Position: CF, Rating: 88\n",
      "Position: LW, Rating: 88\n"
     ]
    }
   ],
   "source": [
    "alternate_position('M. Salah', df_20)"
   ]
  },
  {
   "cell_type": "markdown",
   "metadata": {
    "papermill": {
     "duration": 0.159986,
     "end_time": "2023-05-25T09:04:20.852452",
     "exception": false,
     "start_time": "2023-05-25T09:04:20.692466",
     "status": "completed"
    },
    "tags": []
   },
   "source": [
    "# Player Recommendation"
   ]
  },
  {
   "cell_type": "code",
   "execution_count": 34,
   "metadata": {
    "_kg_hide-input": true,
    "execution": {
     "iopub.execute_input": "2023-05-25T09:04:21.196200Z",
     "iopub.status.busy": "2023-05-25T09:04:21.195287Z",
     "iopub.status.idle": "2023-05-25T09:04:21.434205Z",
     "shell.execute_reply": "2023-05-25T09:04:21.433444Z",
     "shell.execute_reply.started": "2023-05-25T06:51:47.842346Z"
    },
    "papermill": {
     "duration": 0.410781,
     "end_time": "2023-05-25T09:04:21.434350",
     "exception": false,
     "start_time": "2023-05-25T09:04:21.023569",
     "status": "completed"
    },
    "tags": []
   },
   "outputs": [],
   "source": [
    "from sklearn.preprocessing import StandardScaler\n",
    "from sklearn.neighbors import NearestNeighbors\n",
    "from sklearn.decomposition import PCA"
   ]
  },
  {
   "cell_type": "markdown",
   "metadata": {
    "papermill": {
     "duration": 0.158237,
     "end_time": "2023-05-25T09:04:21.752421",
     "exception": false,
     "start_time": "2023-05-25T09:04:21.594184",
     "status": "completed"
    },
    "tags": []
   },
   "source": [
    "### 1: Fetch numeric columns"
   ]
  },
  {
   "cell_type": "code",
   "execution_count": 35,
   "metadata": {
    "execution": {
     "iopub.execute_input": "2023-05-25T09:04:22.093704Z",
     "iopub.status.busy": "2023-05-25T09:04:22.083826Z",
     "iopub.status.idle": "2023-05-25T09:04:22.098444Z",
     "shell.execute_reply": "2023-05-25T09:04:22.097702Z",
     "shell.execute_reply.started": "2023-05-25T06:51:48.217163Z"
    },
    "papermill": {
     "duration": 0.186164,
     "end_time": "2023-05-25T09:04:22.098571",
     "exception": false,
     "start_time": "2023-05-25T09:04:21.912407",
     "status": "completed"
    },
    "tags": []
   },
   "outputs": [
    {
     "name": "stdout",
     "output_type": "stream",
     "text": [
      "   age  height_cm  weight_kg  overall  potential  value_eur  wage_eur  \\\n",
      "0   32        170         72       94         94   95500000    565000   \n",
      "1   34        187         83       93         93   58500000    405000   \n",
      "2   27        175         68       92         92  105500000    290000   \n",
      "3   26        188         87       91         93   77500000    125000   \n",
      "4   28        175         74       91         91   90000000    470000   \n",
      "\n",
      "   international_reputation  weak_foot  skill_moves  ...  Position_LB  \\\n",
      "0                         5          4            4  ...            0   \n",
      "1                         5          4            5  ...            0   \n",
      "2                         5          5            5  ...            0   \n",
      "3                         3          3            1  ...            0   \n",
      "4                         4          4            4  ...            0   \n",
      "\n",
      "   Position_LM  Position_LW  Position_LWB  Position_RB  Position_RM  \\\n",
      "0            0            0             0            0            0   \n",
      "1            0            1             0            0            0   \n",
      "2            0            1             0            0            0   \n",
      "3            0            0             0            0            0   \n",
      "4            0            1             0            0            0   \n",
      "\n",
      "   Position_RW  Position_RWB  Position_ST        bmi  \n",
      "0            1             0            1  24.913495  \n",
      "1            0             0            1  23.735308  \n",
      "2            0             0            0  22.204082  \n",
      "3            0             0            0  24.615211  \n",
      "4            0             0            0  24.163265  \n",
      "\n",
      "[5 rows x 111 columns]\n"
     ]
    }
   ],
   "source": [
    "sample = df_21.select_dtypes(include='number')\n",
    "print(sample.head())"
   ]
  },
  {
   "cell_type": "markdown",
   "metadata": {
    "papermill": {
     "duration": 0.159807,
     "end_time": "2023-05-25T09:04:22.420023",
     "exception": false,
     "start_time": "2023-05-25T09:04:22.260216",
     "status": "completed"
    },
    "tags": []
   },
   "source": [
    "### 2: Correlation Matrix"
   ]
  },
  {
   "cell_type": "code",
   "execution_count": 36,
   "metadata": {
    "_kg_hide-input": true,
    "execution": {
     "iopub.execute_input": "2023-05-25T09:04:22.748566Z",
     "iopub.status.busy": "2023-05-25T09:04:22.747539Z",
     "iopub.status.idle": "2023-05-25T09:04:24.730537Z",
     "shell.execute_reply": "2023-05-25T09:04:24.731198Z",
     "shell.execute_reply.started": "2023-05-25T06:51:48.245271Z"
    },
    "papermill": {
     "duration": 2.151641,
     "end_time": "2023-05-25T09:04:24.731364",
     "exception": false,
     "start_time": "2023-05-25T09:04:22.579723",
     "status": "completed"
    },
    "tags": []
   },
   "outputs": [
    {
     "data": {
      "text/plain": [
       "<matplotlib.axes._subplots.AxesSubplot at 0x7cf490754650>"
      ]
     },
     "execution_count": 36,
     "metadata": {},
     "output_type": "execute_result"
    },
    {
     "data": {
      "image/png": "[encoded data removed]",
      "text/plain": [
       "<Figure size 864x864 with 2 Axes>"
      ]
     },
     "metadata": {
      "needs_background": "light"
     },
     "output_type": "display_data"
    }
   ],
   "source": [
    "import matplotlib.pyplot as plt\n",
    "import seaborn as sns\n",
    "\n",
    "plt.figure(figsize=(12, 12))\n",
    "\n",
    "correlation_matrix = sample.corr()\n",
    "\n",
    "mask = np.zeros_like(correlation_matrix, dtype=np.bool)\n",
    "mask[np.triu_indices_from(mask)] = True\n",
    "\n",
    "sns.heatmap(correlation_matrix, mask=mask, cmap=\"GnBu\", vmax=.3, center=0,\n",
    "            square=True, linewidths=.7, cbar_kws={\"shrink\": .7})\n"
   ]
  },
  {
   "cell_type": "markdown",
   "metadata": {
    "papermill": {
     "duration": 0.162096,
     "end_time": "2023-05-25T09:04:25.385803",
     "exception": false,
     "start_time": "2023-05-25T09:04:25.223707",
     "status": "completed"
    },
    "tags": []
   },
   "source": [
    "# Standardize, implement NearestNeighbors generate 5 similar players"
   ]
  },
  {
   "cell_type": "code",
   "execution_count": 37,
   "metadata": {
    "_kg_hide-input": true,
    "execution": {
     "iopub.execute_input": "2023-05-25T09:04:25.715403Z",
     "iopub.status.busy": "2023-05-25T09:04:25.714582Z",
     "iopub.status.idle": "2023-05-25T09:05:44.269763Z",
     "shell.execute_reply": "2023-05-25T09:05:44.269133Z",
     "shell.execute_reply.started": "2023-05-25T06:51:50.238309Z"
    },
    "papermill": {
     "duration": 78.721188,
     "end_time": "2023-05-25T09:05:44.269942",
     "exception": false,
     "start_time": "2023-05-25T09:04:25.548754",
     "status": "completed"
    },
    "tags": []
   },
   "outputs": [],
   "source": [
    "scaled = StandardScaler()\n",
    "X = scaled.fit_transform(sample)\n",
    "recommendations = NearestNeighbors(n_neighbors=6,algorithm='kd_tree')\n",
    "recommendations.fit(X)\n",
    "player_index = recommendations.kneighbors(X)[1]\n"
   ]
  },
  {
   "cell_type": "code",
   "execution_count": 38,
   "metadata": {
    "_kg_hide-input": true,
    "execution": {
     "iopub.execute_input": "2023-05-25T09:05:44.582839Z",
     "iopub.status.busy": "2023-05-25T09:05:44.582140Z",
     "iopub.status.idle": "2023-05-25T09:05:44.583803Z",
     "shell.execute_reply": "2023-05-25T09:05:44.584395Z",
     "shell.execute_reply.started": "2023-05-25T06:53:25.573316Z"
    },
    "papermill": {
     "duration": 0.163363,
     "end_time": "2023-05-25T09:05:44.584546",
     "exception": false,
     "start_time": "2023-05-25T09:05:44.421183",
     "status": "completed"
    },
    "tags": []
   },
   "outputs": [],
   "source": [
    "def find_player_index(player_name):\n",
    "    return df_20[df_20['name'] == player_name].index.tolist()[0]\n",
    "\n",
    "5 indexes of similar players\n",
    "def recommend_similar_players(player_name):\n",
    "    print(\"Here are 5 players similar to {} : \".format(player_name))\n",
    "    player_index = find_player_index(player_name)\n",
    "    for similar_index in similar_players_index[player_index][1:]:\n",
    "        print(\"Name: {}\\nOverall: {}\\nMarket Value: €{}\\nAge: {}\\nBMI: {:.2f}\\n\".format(df_20.iloc[similar_index]['name'], df_20.iloc[similar_index]['overall'], df_20.iloc[similar_index]['value_eur'], df_20.iloc[similar_index]['age'], df_20.iloc[similar_index]['bmi']))\n"
   ]
  },
  {
   "cell_type": "markdown",
   "metadata": {},
   "source": [
    "1. Collaborative Filtering Algorithms\n",
    "2. Matrix Factorization Algorithms\n",
    "3. Content-Based Filtering\n",
    "4. Deep Learning Models\n",
    "5. Hybrid Models\n",
    "6. Graph-Based Approaches"
   ]
  },
  {
   "cell_type": "code",
   "execution_count": null,
   "metadata": {
    "papermill": {
     "duration": 0.142483,
     "end_time": "2023-05-25T09:05:44.871746",
     "exception": false,
     "start_time": "2023-05-25T09:05:44.729263",
     "status": "completed"
    },
    "tags": []
   },
   "outputs": [],
   "source": [
    "### Test 1: Eden Hazard"
   ]
  },
  {
   "cell_type": "code",
   "execution_count": 39,
   "metadata": {
    "execution": {
     "iopub.execute_input": "2023-05-25T09:05:45.169161Z",
     "iopub.status.busy": "2023-05-25T09:05:45.168477Z",
     "iopub.status.idle": "2023-05-25T09:05:45.188757Z",
     "shell.execute_reply": "2023-05-25T09:05:45.189346Z",
     "shell.execute_reply.started": "2023-05-25T06:53:25.586444Z"
    },
    "papermill": {
     "duration": 0.174282,
     "end_time": "2023-05-25T09:05:45.189489",
     "exception": false,
     "start_time": "2023-05-25T09:05:45.015207",
     "status": "completed"
    },
    "tags": []
   },
   "outputs": [
    {
     "name": "stdout",
     "output_type": "stream",
     "text": [
      "These are 5 players similar to E. Hazard : \n",
      "Name: A. Griezmann\n",
      "Overall: 89\n",
      "Market Value: €69000000\n",
      "Age: 28\n",
      "BMI: 23.57\n",
      "\n",
      "Name: L. Messi\n",
      "Overall: 94\n",
      "Market Value: €95500000\n",
      "Age: 32\n",
      "BMI: 24.91\n",
      "\n",
      "Name: Neymar Jr\n",
      "Overall: 92\n",
      "Market Value: €105500000\n",
      "Age: 27\n",
      "BMI: 22.20\n",
      "\n",
      "Name: K. De Bruyne\n",
      "Overall: 91\n",
      "Market Value: €90000000\n",
      "Age: 28\n",
      "BMI: 21.37\n",
      "\n",
      "Name: R. Sterling\n",
      "Overall: 88\n",
      "Market Value: €73000000\n",
      "Age: 24\n",
      "BMI: 23.88\n",
      "\n"
     ]
    }
   ],
   "source": [
    "recommend_similar('E. Hazard')"
   ]
  },
  {
   "cell_type": "markdown",
   "metadata": {
    "papermill": {
     "duration": 0.14632,
     "end_time": "2023-05-25T09:05:45.481476",
     "exception": false,
     "start_time": "2023-05-25T09:05:45.335156",
     "status": "completed"
    },
    "tags": []
   },
   "source": [
    "### Test 2: J. Gomez"
   ]
  },
  {
   "cell_type": "code",
   "execution_count": 40,
   "metadata": {
    "execution": {
     "iopub.execute_input": "2023-05-25T09:05:45.777735Z",
     "iopub.status.busy": "2023-05-25T09:05:45.776610Z",
     "iopub.status.idle": "2023-05-25T09:05:45.795107Z",
     "shell.execute_reply": "2023-05-25T09:05:45.795632Z",
     "shell.execute_reply.started": "2023-05-25T06:53:25.629203Z"
    },
    "papermill": {
     "duration": 0.167879,
     "end_time": "2023-05-25T09:05:45.795795",
     "exception": false,
     "start_time": "2023-05-25T09:05:45.627916",
     "status": "completed"
    },
    "tags": []
   },
   "outputs": [
    {
     "name": "stdout",
     "output_type": "stream",
     "text": [
      "These are 5 players similar to J. Gomez : \n",
      "Name: M. Holgate\n",
      "Overall: 75\n",
      "Market Value: €8000000\n",
      "Age: 22\n",
      "BMI: 22.15\n",
      "\n",
      "Name: N. Mukiele\n",
      "Overall: 77\n",
      "Market Value: €12000000\n",
      "Age: 21\n",
      "BMI: 21.62\n",
      "\n",
      "Name: B. Pavard\n",
      "Overall: 79\n",
      "Market Value: €15500000\n",
      "Age: 23\n",
      "BMI: 21.97\n",
      "\n",
      "Name: A. Tuanzebe\n",
      "Overall: 73\n",
      "Market Value: €6500000\n",
      "Age: 21\n",
      "BMI: 21.04\n",
      "\n",
      "Name: N. Elvedi\n",
      "Overall: 78\n",
      "Market Value: €13000000\n",
      "Age: 22\n",
      "BMI: 21.84\n",
      "\n"
     ]
    }
   ],
   "source": [
    "recommend_similar('J. Gomez')"
   ]
  },
  {
   "cell_type": "markdown",
   "metadata": {
    "papermill": {
     "duration": 0.148465,
     "end_time": "2023-05-25T09:05:46.090387",
     "exception": false,
     "start_time": "2023-05-25T09:05:45.941922",
     "status": "completed"
    },
    "tags": []
   },
   "source": [
    "### Test 3: Alisson"
   ]
  },
  {
   "cell_type": "code",
   "execution_count": 41,
   "metadata": {
    "execution": {
     "iopub.execute_input": "2023-05-25T09:05:46.393379Z",
     "iopub.status.busy": "2023-05-25T09:05:46.392369Z",
     "iopub.status.idle": "2023-05-25T09:05:46.412234Z",
     "shell.execute_reply": "2023-05-25T09:05:46.412831Z",
     "shell.execute_reply.started": "2023-05-25T06:53:25.655785Z"
    },
    "papermill": {
     "duration": 0.171572,
     "end_time": "2023-05-25T09:05:46.412972",
     "exception": false,
     "start_time": "2023-05-25T09:05:46.241400",
     "status": "completed"
    },
    "tags": []
   },
   "outputs": [
    {
     "name": "stdout",
     "output_type": "stream",
     "text": [
      "These are 5 players similar to Alisson : \n",
      "Name: Ederson\n",
      "Overall: 88\n",
      "Market Value: €54500000\n",
      "Age: 25\n",
      "BMI: 24.33\n",
      "\n",
      "Name: De Gea\n",
      "Overall: 89\n",
      "Market Value: €56000000\n",
      "Age: 28\n",
      "BMI: 22.24\n",
      "\n",
      "Name: T. Courtois\n",
      "Overall: 88\n",
      "Market Value: €48000000\n",
      "Age: 27\n",
      "BMI: 24.24\n",
      "\n",
      "Name: M. ter Stegen\n",
      "Overall: 90\n",
      "Market Value: €67500000\n",
      "Age: 27\n",
      "BMI: 24.31\n",
      "\n",
      "Name: W. Szczęsny\n",
      "Overall: 86\n",
      "Market Value: €37500000\n",
      "Age: 29\n",
      "BMI: 23.67\n",
      "\n"
     ]
    }
   ],
   "source": [
    "recommend_similar('Alisson')"
   ]
  },
  {
   "cell_type": "markdown",
   "metadata": {
    "papermill": {
     "duration": 0.148657,
     "end_time": "2023-05-25T09:05:47.000983",
     "exception": false,
     "start_time": "2023-05-25T09:05:46.852326",
     "status": "completed"
    },
    "tags": []
   },
   "source": [
    "# Club Similarity Rating"
   ]
  },
  {
   "cell_type": "code",
   "execution_count": 42,
   "metadata": {
    "_kg_hide-input": true,
    "execution": {
     "iopub.execute_input": "2023-05-25T09:05:47.303916Z",
     "iopub.status.busy": "2023-05-25T09:05:47.303212Z",
     "iopub.status.idle": "2023-05-25T09:06:08.620872Z",
     "shell.execute_reply": "2023-05-25T09:06:08.620285Z",
     "shell.execute_reply.started": "2023-05-25T06:53:25.681796Z"
    },
    "papermill": {
     "duration": 21.473481,
     "end_time": "2023-05-25T09:06:08.620992",
     "exception": false,
     "start_time": "2023-05-25T09:05:47.147511",
     "status": "completed"
    },
    "tags": []
   },
   "outputs": [],
   "source": [
    "sorted_data = df_20.sort_values(by=['overall'], ascending=False)\n",
    "new_data_sample = pd.DataFrame(columns=[\"overall\", \"pace\", \"shooting\", \"passing\", \"dribbling\", \"defending\", \"physic\", \"team\"])\n",
    "\n",
    "for team_name in sorted_data['team'].unique():\n",
    "    overall_median = sorted_data[sorted_data['team'] == team_name][0:24]['overall'].median()\n",
    "    pace_median = sorted_data[sorted_data['team'] == team_name][0:24]['pace'].median()\n",
    "    shooting_median = sorted_data[sorted_data['team'] == team_name][0:24]['shooting'].median()\n",
    "    passing_median = sorted_data[sorted_data['team'] == team_name][0:24]['passing'].median()\n",
    "    dribbling_median = sorted_data[sorted_data['team'] == team_name][0:24]['dribbling'].median()\n",
    "    defending_median = sorted_data[sorted_data['team'] == team_name][0:24]['defending'].median()\n",
    "    physic_median = sorted_data[sorted_data['team'] == team_name][0:24]['physic'].median()\n",
    "    \n",
    "    team_data = [overall_median, pace_median, shooting_median, passing_median, dribbling_median, defending_median, physic_median, team_name]\n",
    "    \n",
    "    data_length = len(new_data_sample)\n",
    "    new_data_sample.loc[data_length] = team_data\n"
   ]
  },
  {
   "cell_type": "code",
   "execution_count": null,
   "metadata": {},
   "outputs": [],
   "source": []
  },
  {
   "cell_type": "code",
   "execution_count": 43,
   "metadata": {
    "execution": {
     "iopub.execute_input": "2023-05-25T09:06:08.927532Z",
     "iopub.status.busy": "2023-05-25T09:06:08.926427Z",
     "iopub.status.idle": "2023-05-25T09:06:08.947015Z",
     "shell.execute_reply": "2023-05-25T09:06:08.947632Z",
     "shell.execute_reply.started": "2023-05-25T06:53:51.417197Z"
    },
    "papermill": {
     "duration": 0.174291,
     "end_time": "2023-05-25T09:06:08.947804",
     "exception": false,
     "start_time": "2023-05-25T09:06:08.773513",
     "status": "completed"
    },
    "tags": []
   },
   "outputs": [
    {
     "data": {
      "text/html": [
       "<div>\n",
       "<style scoped>\n",
       "    .dataframe tbody tr th:only-of-type {\n",
       "        vertical-align: middle;\n",
       "    }\n",
       "\n",
       "    .dataframe tbody tr th {\n",
       "        vertical-align: top;\n",
       "    }\n",
       "\n",
       "    .dataframe thead th {\n",
       "        text-align: right;\n",
       "    }\n",
       "</style>\n",
       "<table border=\"1\" class=\"dataframe\">\n",
       "  <thead>\n",
       "    <tr style=\"text-align: right;\">\n",
       "      <th></th>\n",
       "      <th>overall</th>\n",
       "      <th>pace</th>\n",
       "      <th>shooting</th>\n",
       "      <th>passing</th>\n",
       "      <th>dribbling</th>\n",
       "      <th>defending</th>\n",
       "      <th>physic</th>\n",
       "      <th>team</th>\n",
       "    </tr>\n",
       "  </thead>\n",
       "  <tbody>\n",
       "    <tr>\n",
       "      <th>0</th>\n",
       "      <td>84.5</td>\n",
       "      <td>73.0</td>\n",
       "      <td>63.5</td>\n",
       "      <td>76.0</td>\n",
       "      <td>78.0</td>\n",
       "      <td>71.0</td>\n",
       "      <td>72.5</td>\n",
       "      <td>FC Barcelona</td>\n",
       "    </tr>\n",
       "    <tr>\n",
       "      <th>1</th>\n",
       "      <td>83.5</td>\n",
       "      <td>69.5</td>\n",
       "      <td>68.0</td>\n",
       "      <td>76.5</td>\n",
       "      <td>78.5</td>\n",
       "      <td>72.5</td>\n",
       "      <td>74.0</td>\n",
       "      <td>Juventus</td>\n",
       "    </tr>\n",
       "    <tr>\n",
       "      <th>2</th>\n",
       "      <td>82.0</td>\n",
       "      <td>75.0</td>\n",
       "      <td>64.0</td>\n",
       "      <td>72.5</td>\n",
       "      <td>77.5</td>\n",
       "      <td>70.5</td>\n",
       "      <td>72.0</td>\n",
       "      <td>Paris Saint-Germain</td>\n",
       "    </tr>\n",
       "    <tr>\n",
       "      <th>3</th>\n",
       "      <td>81.5</td>\n",
       "      <td>73.0</td>\n",
       "      <td>66.5</td>\n",
       "      <td>72.5</td>\n",
       "      <td>75.0</td>\n",
       "      <td>73.0</td>\n",
       "      <td>73.0</td>\n",
       "      <td>Atlético Madrid</td>\n",
       "    </tr>\n",
       "    <tr>\n",
       "      <th>4</th>\n",
       "      <td>85.0</td>\n",
       "      <td>78.0</td>\n",
       "      <td>72.5</td>\n",
       "      <td>75.0</td>\n",
       "      <td>81.0</td>\n",
       "      <td>62.5</td>\n",
       "      <td>71.5</td>\n",
       "      <td>Real Madrid</td>\n",
       "    </tr>\n",
       "    <tr>\n",
       "      <th>...</th>\n",
       "      <td>...</td>\n",
       "      <td>...</td>\n",
       "      <td>...</td>\n",
       "      <td>...</td>\n",
       "      <td>...</td>\n",
       "      <td>...</td>\n",
       "      <td>...</td>\n",
       "      <td>...</td>\n",
       "    </tr>\n",
       "    <tr>\n",
       "      <th>693</th>\n",
       "      <td>58.0</td>\n",
       "      <td>67.0</td>\n",
       "      <td>49.0</td>\n",
       "      <td>53.0</td>\n",
       "      <td>56.0</td>\n",
       "      <td>52.0</td>\n",
       "      <td>61.0</td>\n",
       "      <td>Sligo Rovers</td>\n",
       "    </tr>\n",
       "    <tr>\n",
       "      <th>694</th>\n",
       "      <td>56.0</td>\n",
       "      <td>66.0</td>\n",
       "      <td>48.0</td>\n",
       "      <td>51.5</td>\n",
       "      <td>56.0</td>\n",
       "      <td>51.5</td>\n",
       "      <td>60.5</td>\n",
       "      <td>Finn Harps</td>\n",
       "    </tr>\n",
       "    <tr>\n",
       "      <th>695</th>\n",
       "      <td>60.0</td>\n",
       "      <td>69.0</td>\n",
       "      <td>35.0</td>\n",
       "      <td>45.0</td>\n",
       "      <td>58.0</td>\n",
       "      <td>57.0</td>\n",
       "      <td>62.0</td>\n",
       "      <td>Seongnam FC</td>\n",
       "    </tr>\n",
       "    <tr>\n",
       "      <th>696</th>\n",
       "      <td>54.0</td>\n",
       "      <td>62.0</td>\n",
       "      <td>38.0</td>\n",
       "      <td>46.0</td>\n",
       "      <td>54.0</td>\n",
       "      <td>49.0</td>\n",
       "      <td>56.0</td>\n",
       "      <td>UCD AFC</td>\n",
       "    </tr>\n",
       "    <tr>\n",
       "      <th>697</th>\n",
       "      <td>57.0</td>\n",
       "      <td>64.0</td>\n",
       "      <td>26.0</td>\n",
       "      <td>45.0</td>\n",
       "      <td>57.0</td>\n",
       "      <td>56.0</td>\n",
       "      <td>56.0</td>\n",
       "      <td>Śląsk Wrocław</td>\n",
       "    </tr>\n",
       "  </tbody>\n",
       "</table>\n",
       "<p>698 rows × 8 columns</p>\n",
       "</div>"
      ],
      "text/plain": [
       "     overall  pace  shooting  passing  dribbling  defending  physic  \\\n",
       "0       84.5  73.0      63.5     76.0       78.0       71.0    72.5   \n",
       "1       83.5  69.5      68.0     76.5       78.5       72.5    74.0   \n",
       "2       82.0  75.0      64.0     72.5       77.5       70.5    72.0   \n",
       "3       81.5  73.0      66.5     72.5       75.0       73.0    73.0   \n",
       "4       85.0  78.0      72.5     75.0       81.0       62.5    71.5   \n",
       "..       ...   ...       ...      ...        ...        ...     ...   \n",
       "693     58.0  67.0      49.0     53.0       56.0       52.0    61.0   \n",
       "694     56.0  66.0      48.0     51.5       56.0       51.5    60.5   \n",
       "695     60.0  69.0      35.0     45.0       58.0       57.0    62.0   \n",
       "696     54.0  62.0      38.0     46.0       54.0       49.0    56.0   \n",
       "697     57.0  64.0      26.0     45.0       57.0       56.0    56.0   \n",
       "\n",
       "                    team  \n",
       "0           FC Barcelona  \n",
       "1               Juventus  \n",
       "2    Paris Saint-Germain  \n",
       "3        Atlético Madrid  \n",
       "4            Real Madrid  \n",
       "..                   ...  \n",
       "693         Sligo Rovers  \n",
       "694           Finn Harps  \n",
       "695          Seongnam FC  \n",
       "696              UCD AFC  \n",
       "697        Śląsk Wrocław  \n",
       "\n",
       "[698 rows x 8 columns]"
      ]
     },
     "execution_count": 43,
     "metadata": {},
     "output_type": "execute_result"
    }
   ],
   "source": [
    "new_sample"
   ]
  },
  {
   "cell_type": "code",
   "execution_count": 44,
   "metadata": {
    "_kg_hide-input": true,
    "execution": {
     "iopub.execute_input": "2023-05-25T09:06:09.251179Z",
     "iopub.status.busy": "2023-05-25T09:06:09.250203Z",
     "iopub.status.idle": "2023-05-25T09:06:09.264409Z",
     "shell.execute_reply": "2023-05-25T09:06:09.264978Z",
     "shell.execute_reply.started": "2023-05-25T06:53:51.444434Z"
    },
    "papermill": {
     "duration": 0.167615,
     "end_time": "2023-05-25T09:06:09.265132",
     "exception": false,
     "start_time": "2023-05-25T09:06:09.097517",
     "status": "completed"
    },
    "tags": []
   },
   "outputs": [],
   "source": [
    "scaled = StandardScaler()\n",
    "X = scaled.fit_transform(new_sample.iloc[:,0:7])\n",
    "recommendations = NearestNeighbors(n_neighbors=4,algorithm='kd_tree')\n",
    "recommendations.fit(X)\n",
    "club_index = recommendations.kneighbors(X)[1]"
   ]
  },
  {
   "cell_type": "code",
   "execution_count": 45,
   "metadata": {
    "_kg_hide-input": true,
    "execution": {
     "iopub.execute_input": "2023-05-25T09:06:09.561956Z",
     "iopub.status.busy": "2023-05-25T09:06:09.561004Z",
     "iopub.status.idle": "2023-05-25T09:06:09.569843Z",
     "shell.execute_reply": "2023-05-25T09:06:09.570432Z",
     "shell.execute_reply.started": "2023-05-25T06:53:51.468159Z"
    },
    "papermill": {
     "duration": 0.158132,
     "end_time": "2023-05-25T09:06:09.570579",
     "exception": false,
     "start_time": "2023-05-25T09:06:09.412447",
     "status": "completed"
    },
    "tags": []
   },
   "outputs": [],
   "source": [
    "def get_index(x):\n",
    "    return new_sample[new_sample['team']==x].index.tolist()[0]\n",
    "def recommend_similar(club):\n",
    "    print(\"These are 3 clubs similar to {} : \".format(club))\n",
    "    index=  get_index(club)\n",
    "    for i in club_index[index][1:]:\n",
    "        print(\"Name: {}\\nOverall: {}\\nPace: {}\\nShooting: {}\\nPassing: {}\\nDribbling: {}\\nDefending: {}\\n\".format(new_sample.iloc[i]['team'],new_sample.iloc[i]['overall'],new_sample.iloc[i]['pace'],new_sample.iloc[i]['shooting'],new_sample.iloc[i]['passing'],new_sample.iloc[i]['dribbling'],new_sample.iloc[i]['defending']))"
   ]
  },
  {
   "cell_type": "markdown",
   "metadata": {
    "papermill": {
     "duration": 0.16307,
     "end_time": "2023-05-25T09:06:09.882941",
     "exception": false,
     "start_time": "2023-05-25T09:06:09.719871",
     "status": "completed"
    },
    "tags": []
   },
   "source": [
    "### Test 1: FC Barcelona"
   ]
  },
  {
   "cell_type": "code",
   "execution_count": 46,
   "metadata": {
    "execution": {
     "iopub.execute_input": "2023-05-25T09:06:10.190762Z",
     "iopub.status.busy": "2023-05-25T09:06:10.189733Z",
     "iopub.status.idle": "2023-05-25T09:06:10.202072Z",
     "shell.execute_reply": "2023-05-25T09:06:10.202580Z",
     "shell.execute_reply.started": "2023-05-25T06:53:51.481481Z"
    },
    "papermill": {
     "duration": 0.168917,
     "end_time": "2023-05-25T09:06:10.202737",
     "exception": false,
     "start_time": "2023-05-25T09:06:10.033820",
     "status": "completed"
    },
    "tags": []
   },
   "outputs": [
    {
     "name": "stdout",
     "output_type": "stream",
     "text": [
      "These are 3 clubs similar to FC Barcelona : \n",
      "Name: Tottenham Hotspur\n",
      "Overall: 80.5\n",
      "Pace: 73.5\n",
      "Shooting: 64.0\n",
      "Passing: 74.0\n",
      "Dribbling: 77.0\n",
      "Defending: 71.0\n",
      "\n",
      "Name: Paris Saint-Germain\n",
      "Overall: 82.0\n",
      "Pace: 75.0\n",
      "Shooting: 64.0\n",
      "Passing: 72.5\n",
      "Dribbling: 77.5\n",
      "Defending: 70.5\n",
      "\n",
      "Name: Atlético Madrid\n",
      "Overall: 81.5\n",
      "Pace: 73.0\n",
      "Shooting: 66.5\n",
      "Passing: 72.5\n",
      "Dribbling: 75.0\n",
      "Defending: 73.0\n",
      "\n"
     ]
    }
   ],
   "source": [
    "recommend_similar('FC Barcelona')"
   ]
  },
  {
   "cell_type": "markdown",
   "metadata": {
    "papermill": {
     "duration": 0.151101,
     "end_time": "2023-05-25T09:06:10.506415",
     "exception": false,
     "start_time": "2023-05-25T09:06:10.355314",
     "status": "completed"
    },
    "tags": []
   },
   "source": [
    "### Test 2: FC Bayern München"
   ]
  },
  {
   "cell_type": "code",
   "execution_count": 47,
   "metadata": {
    "execution": {
     "iopub.execute_input": "2023-05-25T09:06:10.809961Z",
     "iopub.status.busy": "2023-05-25T09:06:10.808936Z",
     "iopub.status.idle": "2023-05-25T09:06:10.821415Z",
     "shell.execute_reply": "2023-05-25T09:06:10.820748Z",
     "shell.execute_reply.started": "2023-05-25T06:53:51.507745Z"
    },
    "papermill": {
     "duration": 0.165785,
     "end_time": "2023-05-25T09:06:10.821548",
     "exception": false,
     "start_time": "2023-05-25T09:06:10.655763",
     "status": "completed"
    },
    "tags": []
   },
   "outputs": [
    {
     "name": "stdout",
     "output_type": "stream",
     "text": [
      "These are 3 clubs similar to FC Bayern München : \n",
      "Name: Liverpool\n",
      "Overall: 82.0\n",
      "Pace: 74.0\n",
      "Shooting: 65.5\n",
      "Passing: 76.5\n",
      "Dribbling: 77.0\n",
      "Defending: 65.5\n",
      "\n",
      "Name: Manchester City\n",
      "Overall: 84.0\n",
      "Pace: 72.5\n",
      "Shooting: 66.5\n",
      "Passing: 77.0\n",
      "Dribbling: 79.0\n",
      "Defending: 60.0\n",
      "\n",
      "Name: Chelsea\n",
      "Overall: 80.0\n",
      "Pace: 70.5\n",
      "Shooting: 67.0\n",
      "Passing: 71.5\n",
      "Dribbling: 76.5\n",
      "Defending: 64.5\n",
      "\n"
     ]
    }
   ],
   "source": [
    "recommend_similar('FC Bayern München')"
   ]
  }
 ],
 "metadata": {
  "kernelspec": {
   "display_name": "Python 3 (ipykernel)",
   "language": "python",
   "name": "python3"
  },
  "language_info": {
   "codemirror_mode": {
    "name": "ipython",
    "version": 3
   },
   "file_extension": ".py",
   "mimetype": "text/x-python",
   "name": "python",
   "nbconvert_exporter": "python",
   "pygments_lexer": "ipython3",
   "version": "3.11.3"
  },
  "papermill": {
   "duration": 142.493225,
   "end_time": "2023-05-25T09:06:11.389252",
   "environment_variables": {},
   "exception": null,
   "input_path": "__notebook__.ipynb",
   "output_path": "__notebook__.ipynb",
   "parameters": {},
   "start_time": "2023-05-25T09:03:48.896027",
   "version": "2.1.0"
  }
 },
 "nbformat": 4,
 "nbformat_minor": 4
}
