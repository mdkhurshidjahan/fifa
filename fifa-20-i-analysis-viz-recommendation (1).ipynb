{
 "cells": [
  {
   "cell_type": "code",
   "execution_count": 1,
   "metadata": {
    "_cell_guid": "b1076dfc-b9ad-4769-8c92-a6c4dae69d19",
    "_uuid": "8f2839f25d086af736a60e9eeb907d3b93b6e0e5",
    "execution": {
     "iopub.execute_input": "2020-08-30T13:34:00.795513Z",
     "iopub.status.busy": "2020-08-30T13:34:00.794663Z",
     "iopub.status.idle": "2020-08-30T13:34:02.155891Z",
     "shell.execute_reply": "2020-08-30T13:34:02.155039Z"
    },
    "papermill": {
     "duration": 1.385198,
     "end_time": "2020-08-30T13:34:02.156047",
     "exception": false,
     "start_time": "2020-08-30T13:34:00.770849",
     "status": "completed"
    },
    "tags": []
   },
   "outputs": [],
   "source": [
    "import pandas as pd\n",
    "import plotly.graph_objects as go\n",
    "import plotly.express as px\n",
    "import plotly     "
   ]
  },
  {
   "cell_type": "code",
   "execution_count": 3,
   "metadata": {
    "_cell_guid": "79c7e3d0-c299-4dcb-8224-4455121ee9b0",
    "_uuid": "d629ff2d2480ee46fbb7e2d37f6b5fab8052498a",
    "execution": {
     "iopub.execute_input": "2020-08-30T13:34:02.197611Z",
     "iopub.status.busy": "2020-08-30T13:34:02.196755Z",
     "iopub.status.idle": "2020-08-30T13:34:04.263191Z",
     "shell.execute_reply": "2020-08-30T13:34:04.262311Z"
    },
    "papermill": {
     "duration": 2.091616,
     "end_time": "2020-08-30T13:34:04.263334",
     "exception": false,
     "start_time": "2020-08-30T13:34:02.171718",
     "status": "completed"
    },
    "tags": []
   },
   "outputs": [
    {
     "name": "stderr",
     "output_type": "stream",
     "text": [
      "C:\\Users\\pirat\\AppData\\Local\\Temp\\ipykernel_16456\\2096527566.py:1: FutureWarning: The error_bad_lines argument has been deprecated and will be removed in a future version. Use on_bad_lines in the future.\n",
      "\n",
      "\n",
      "  df = pd.read_csv(\"players_21.csv\", error_bad_lines=False)\n"
     ]
    }
   ],
   "source": [
    "df = pd.read_csv(\"players_21.csv\", error_bad_lines=False)"
   ]
  },
  {
   "cell_type": "markdown",
   "metadata": {
    "papermill": {
     "duration": 0.0152,
     "end_time": "2020-08-30T13:34:04.294282",
     "exception": false,
     "start_time": "2020-08-30T13:34:04.279082",
     "status": "completed"
    },
    "tags": []
   },
   "source": [
    "# Data Preprocessing & Feature Engineering"
   ]
  },
  {
   "cell_type": "code",
   "execution_count": 4,
   "metadata": {
    "execution": {
     "iopub.execute_input": "2020-08-30T13:34:04.345195Z",
     "iopub.status.busy": "2020-08-30T13:34:04.341584Z",
     "iopub.status.idle": "2020-08-30T13:34:04.451769Z",
     "shell.execute_reply": "2020-08-30T13:34:04.450996Z"
    },
    "papermill": {
     "duration": 0.142018,
     "end_time": "2020-08-30T13:34:04.451915",
     "exception": false,
     "start_time": "2020-08-30T13:34:04.309897",
     "status": "completed"
    },
    "tags": []
   },
   "outputs": [],
   "source": [
    "# Drop Unnecessary columns\n",
    "df = df.drop(['sofifa_id', 'player_url', 'long_name', 'body_type', 'real_face', 'loaned_from', 'nation_position', 'nation_jersey_number'], axis=1)"
   ]
  },
  {
   "cell_type": "markdown",
   "metadata": {
    "papermill": {
     "duration": 0.015101,
     "end_time": "2020-08-30T13:34:04.482685",
     "exception": false,
     "start_time": "2020-08-30T13:34:04.467584",
     "status": "completed"
    },
    "tags": []
   },
   "source": [
    "### 1: Position Columns\n",
    "Clean, Process and Assign the new attributes to columns listed below. These columns will be used to identify best alternate playing position based on ratings:\n",
    "<br>\n",
    "'ls', 'st', 'rs', 'lw', 'lf', 'cf', 'rf', 'rw', 'lam', 'cam', 'ram', 'lm', 'lcm', 'cm', 'rcm', 'rm', 'lwb', 'ldm', 'cdm', 'rdm', 'rwb', 'lb', 'lcb', 'cb', 'rcb', 'rb'"
   ]
  },
  {
   "cell_type": "code",
   "execution_count": 4,
   "metadata": {
    "execution": {
     "iopub.execute_input": "2020-08-30T13:34:04.534422Z",
     "iopub.status.busy": "2020-08-30T13:34:04.529101Z",
     "iopub.status.idle": "2020-08-30T13:34:06.524932Z",
     "shell.execute_reply": "2020-08-30T13:34:06.524302Z"
    },
    "papermill": {
     "duration": 2.026816,
     "end_time": "2020-08-30T13:34:06.525068",
     "exception": false,
     "start_time": "2020-08-30T13:34:04.498252",
     "status": "completed"
    },
    "tags": []
   },
   "outputs": [],
   "source": [
    "stats = ['ls', 'st', 'rs', 'lw', 'lf', 'cf', 'rf', 'rw', 'lam', 'cam', 'ram',\n",
    "       'lm', 'lcm', 'cm', 'rcm', 'rm', 'lwb', 'ldm', 'cdm', 'rdm', 'rwb', 'lb',\n",
    "       'lcb', 'cb', 'rcb', 'rb']\n",
    "for col in stats:\n",
    "    new = df[col].str.split(\"+\", n=1, expand=True)\n",
    "    df[col] = new[0]\n",
    "\n",
    "# Replace NaN with 0\n",
    "df[stats] = df[stats].fillna(0)\n",
    "df[stats] = df[stats].astype(int)"
   ]
  },
  {
   "cell_type": "markdown",
   "metadata": {
    "papermill": {
     "duration": 0.015633,
     "end_time": "2020-08-30T13:34:06.556627",
     "exception": false,
     "start_time": "2020-08-30T13:34:06.540994",
     "status": "completed"
    },
    "tags": []
   },
   "source": [
    "### 2: Player's Work Rate\n",
    "Convert the categorical values in Work Rate column in integer values. These columns are used to identify players work rate in offense and defence. Having one-hot encoding them provides us to use these features in further analysis and recommendations."
   ]
  },
  {
   "cell_type": "code",
   "execution_count": 5,
   "metadata": {
    "execution": {
     "iopub.execute_input": "2020-08-30T13:34:06.595860Z",
     "iopub.status.busy": "2020-08-30T13:34:06.595017Z",
     "iopub.status.idle": "2020-08-30T13:34:06.647207Z",
     "shell.execute_reply": "2020-08-30T13:34:06.646386Z"
    },
    "papermill": {
     "duration": 0.07498,
     "end_time": "2020-08-30T13:34:06.647336",
     "exception": false,
     "start_time": "2020-08-30T13:34:06.572356",
     "status": "completed"
    },
    "tags": []
   },
   "outputs": [],
   "source": [
    "# Create dummy variables and append to dataframe\n",
    "df = pd.concat([df, pd.get_dummies(df['work_rate'])], axis=1)\n",
    "# Drop original work_rate column\n",
    "df = df.drop(['work_rate'], axis=1)\n"
   ]
  },
  {
   "cell_type": "markdown",
   "metadata": {
    "papermill": {
     "duration": 0.015618,
     "end_time": "2020-08-30T13:34:06.678943",
     "exception": false,
     "start_time": "2020-08-30T13:34:06.663325",
     "status": "completed"
    },
    "tags": []
   },
   "source": [
    "### 3: Player's DOB\n",
    "Clean and fetch the month value from dob column to use for analysis."
   ]
  },
  {
   "cell_type": "code",
   "execution_count": 6,
   "metadata": {
    "execution": {
     "iopub.execute_input": "2020-08-30T13:34:06.761364Z",
     "iopub.status.busy": "2020-08-30T13:34:06.740572Z",
     "iopub.status.idle": "2020-08-30T13:34:06.783248Z",
     "shell.execute_reply": "2020-08-30T13:34:06.782454Z"
    },
    "papermill": {
     "duration": 0.088737,
     "end_time": "2020-08-30T13:34:06.783381",
     "exception": false,
     "start_time": "2020-08-30T13:34:06.694644",
     "status": "completed"
    },
    "tags": []
   },
   "outputs": [],
   "source": [
    "# Split the dob column to fetch month\n",
    "new = df_20[\"dob\"].str.split(\"-\", n = 2, expand = True)\n",
    "df_20[\"birth_month\"] = new[1].astype(int)"
   ]
  },
  {
   "cell_type": "markdown",
   "metadata": {
    "papermill": {
     "duration": 0.015724,
     "end_time": "2020-08-30T13:34:06.815314",
     "exception": false,
     "start_time": "2020-08-30T13:34:06.799590",
     "status": "completed"
    },
    "tags": []
   },
   "source": [
    "### 4: Player's Position\n",
    "Convert the categorical values in Player's Position column in integer values. These columns are used to identify players playing positions (single-multi). Having one-hot encoding them provides us to use these features in further analysis and recommendations."
   ]
  },
  {
   "cell_type": "code",
   "execution_count": 7,
   "metadata": {
    "execution": {
     "iopub.execute_input": "2020-08-30T13:34:06.861406Z",
     "iopub.status.busy": "2020-08-30T13:34:06.860406Z",
     "iopub.status.idle": "2020-08-30T13:34:07.364990Z",
     "shell.execute_reply": "2020-08-30T13:34:07.364181Z"
    },
    "papermill": {
     "duration": 0.53386,
     "end_time": "2020-08-30T13:34:07.365121",
     "exception": false,
     "start_time": "2020-08-30T13:34:06.831261",
     "status": "completed"
    },
    "tags": []
   },
   "outputs": [],
   "source": [
    "df = pd.concat([df, df['player_positions'].str.get_dummies(sep=', ').add_prefix('Position_')], axis=1) \n",
    "# Drop original work_rate column\n",
    "df = df.drop(['player_positions'], axis=1)"
   ]
  },
  {
   "cell_type": "markdown",
   "metadata": {
    "papermill": {
     "duration": 0.015335,
     "end_time": "2020-08-30T13:34:07.396404",
     "exception": false,
     "start_time": "2020-08-30T13:34:07.381069",
     "status": "completed"
    },
    "tags": []
   },
   "source": [
    "### 5. BMI: New feature creation\n",
    "Creation of a BMI feature using Weight_kg & Height_cm and use it instead of 'body_type' feature."
   ]
  },
  {
   "cell_type": "code",
   "execution_count": 9,
   "metadata": {
    "execution": {
     "iopub.execute_input": "2020-08-30T13:34:07.528072Z",
     "iopub.status.busy": "2020-08-30T13:34:07.527308Z",
     "iopub.status.idle": "2020-08-30T13:34:07.558809Z",
     "shell.execute_reply": "2020-08-30T13:34:07.559448Z"
    },
    "papermill": {
     "duration": 0.055521,
     "end_time": "2020-08-30T13:34:07.559627",
     "exception": false,
     "start_time": "2020-08-30T13:34:07.504106",
     "status": "completed"
    },
    "tags": []
   },
   "outputs": [],
   "source": [
    "# Check the missing values in the column\n",
    "missing_data = df.isnull().sum().sort_values(ascending=False)\n",
    "missing_data = missing_data.reset_index(drop=False)\n",
    "missing_data = missing_data.rename(columns={\"index\": \"Columns\", 0: \"Value\"})\n",
    "missing_data['Proportion'] = (missing_data['Value'] / len(df)) * 100"
   ]
  },
  {
   "cell_type": "markdown",
   "metadata": {
    "papermill": {
     "duration": 0.053695,
     "end_time": "2020-08-30T13:34:15.426132",
     "exception": false,
     "start_time": "2020-08-30T13:34:15.372437",
     "status": "completed"
    },
    "tags": []
   },
   "source": [
    "# Recommend Alternate Playing Position per Player\n",
    "Display alternate playing positions of a player which are not current playing positions of the player. <br>\n",
    "*For Goalkeepers alternate playing position will have 0 ratings*"
   ]
  },
  {
   "cell_type": "code",
   "execution_count": 29,
   "metadata": {
    "execution": {
     "iopub.execute_input": "2020-08-30T13:34:15.545811Z",
     "iopub.status.busy": "2020-08-30T13:34:15.544721Z",
     "iopub.status.idle": "2020-08-30T13:34:15.548504Z",
     "shell.execute_reply": "2020-08-30T13:34:15.547758Z"
    },
    "papermill": {
     "duration": 0.068927,
     "end_time": "2020-08-30T13:34:15.548631",
     "exception": false,
     "start_time": "2020-08-30T13:34:15.479704",
     "status": "completed"
    },
    "tags": []
   },
   "outputs": [],
   "source": [
    "import re\n",
    "\n",
    "def alternate_position(player, df):\n",
    "    # Get player's index\n",
    "    idx = df[df['short_name'] == player].index[0]\n",
    "    sample_1 = df.iloc[:, 68:94]\n",
    "    # Find 5 highest scores per position of player\n",
    "    ls = sample_1.loc[idx].nlargest(5).index[0:].values\n",
    "    ls = ls.tolist()\n",
    "    sample_2 = df.iloc[idx, 104:119]\n",
    "    # Identify positions which are not current playing positions\n",
    "    ls2 = sample_2[sample_2 == 1].index[:].values\n",
    "    # Make index values lower case\n",
    "    ls2 = list(map(lambda x: x.lower(), ls2.tolist()))\n",
    "    ls2 = [re.sub(r'position_', '', i) for i in ls2]\n",
    "    # Find Positions with highest rating and are not currently playing positions\n",
    "    alt_pos = set(ls) - (set(ls2))\n",
    "    print(\"Alternate Playing Positions for {} are\".format(player))\n",
    "    for i in alt_pos:\n",
    "        print(\"Position: {}, Rating: {}\".format(str.upper(i), df[i].values[idx]))\n",
    "    return None\n"
   ]
  },
  {
   "cell_type": "markdown",
   "metadata": {
    "papermill": {
     "duration": 0.052517,
     "end_time": "2020-08-30T13:34:15.654415",
     "exception": false,
     "start_time": "2020-08-30T13:34:15.601898",
     "status": "completed"
    },
    "tags": []
   },
   "source": [
    "### Test 1: P. Pogba"
   ]
  },
  {
   "cell_type": "code",
   "execution_count": 30,
   "metadata": {
    "execution": {
     "iopub.execute_input": "2020-08-30T13:34:15.773628Z",
     "iopub.status.busy": "2020-08-30T13:34:15.772503Z",
     "iopub.status.idle": "2020-08-30T13:34:15.781689Z",
     "shell.execute_reply": "2020-08-30T13:34:15.781094Z"
    },
    "papermill": {
     "duration": 0.07426,
     "end_time": "2020-08-30T13:34:15.781840",
     "exception": false,
     "start_time": "2020-08-30T13:34:15.707580",
     "status": "completed"
    },
    "tags": []
   },
   "outputs": [
    {
     "name": "stdout",
     "output_type": "stream",
     "text": [
      "Alternate Playing Positions for P. Pogba are\n",
      "Position: LAM, Rating: 84\n",
      "Position: RAM, Rating: 84\n",
      "Position: LCM, Rating: 84\n",
      "Position: CAM, Rating: 84\n"
     ]
    }
   ],
   "source": [
    "alternate_position(\"P. Pogba\", df)"
   ]
  },
  {
   "cell_type": "markdown",
   "metadata": {
    "papermill": {
     "duration": 0.052891,
     "end_time": "2020-08-30T13:34:15.888581",
     "exception": false,
     "start_time": "2020-08-30T13:34:15.835690",
     "status": "completed"
    },
    "tags": []
   },
   "source": [
    "### Test 2: M. Salah"
   ]
  },
  {
   "cell_type": "code",
   "execution_count": 31,
   "metadata": {
    "execution": {
     "iopub.execute_input": "2020-08-30T13:34:16.011502Z",
     "iopub.status.busy": "2020-08-30T13:34:16.010570Z",
     "iopub.status.idle": "2020-08-30T13:34:16.016699Z",
     "shell.execute_reply": "2020-08-30T13:34:16.015979Z"
    },
    "papermill": {
     "duration": 0.075427,
     "end_time": "2020-08-30T13:34:16.016871",
     "exception": false,
     "start_time": "2020-08-30T13:34:15.941444",
     "status": "completed"
    },
    "tags": []
   },
   "outputs": [
    {
     "name": "stdout",
     "output_type": "stream",
     "text": [
      "Alternate Playing Positions for M. Salah are\n",
      "Position: LF, Rating: 88\n",
      "Position: RF, Rating: 88\n",
      "Position: LW, Rating: 88\n",
      "Position: CF, Rating: 88\n"
     ]
    }
   ],
   "source": [
    "alternate_position('M. Salah', df)"
   ]
  },
  {
   "cell_type": "markdown",
   "metadata": {
    "papermill": {
     "duration": 0.054373,
     "end_time": "2020-08-30T13:34:16.127555",
     "exception": false,
     "start_time": "2020-08-30T13:34:16.073182",
     "status": "completed"
    },
    "tags": []
   },
   "source": [
    "# Player Recommendation"
   ]
  },
  {
   "cell_type": "code",
   "execution_count": 32,
   "metadata": {
    "execution": {
     "iopub.execute_input": "2020-08-30T13:34:16.239842Z",
     "iopub.status.busy": "2020-08-30T13:34:16.239007Z",
     "iopub.status.idle": "2020-08-30T13:34:16.243024Z",
     "shell.execute_reply": "2020-08-30T13:34:16.242231Z"
    },
    "papermill": {
     "duration": 0.062662,
     "end_time": "2020-08-30T13:34:16.243156",
     "exception": false,
     "start_time": "2020-08-30T13:34:16.180494",
     "status": "completed"
    },
    "tags": []
   },
   "outputs": [],
   "source": [
    "from sklearn.preprocessing import StandardScaler\n",
    "from sklearn.neighbors import NearestNeighbors\n",
    "from sklearn.decomposition import PCA"
   ]
  },
  {
   "cell_type": "markdown",
   "metadata": {
    "papermill": {
     "duration": 0.053711,
     "end_time": "2020-08-30T13:34:16.350704",
     "exception": false,
     "start_time": "2020-08-30T13:34:16.296993",
     "status": "completed"
    },
    "tags": []
   },
   "source": [
    "### 1: Fetch numeric columns"
   ]
  },
  {
   "cell_type": "code",
   "execution_count": 33,
   "metadata": {
    "execution": {
     "iopub.execute_input": "2020-08-30T13:34:16.480791Z",
     "iopub.status.busy": "2020-08-30T13:34:16.479709Z",
     "iopub.status.idle": "2020-08-30T13:34:16.485879Z",
     "shell.execute_reply": "2020-08-30T13:34:16.485222Z"
    },
    "papermill": {
     "duration": 0.080968,
     "end_time": "2020-08-30T13:34:16.486008",
     "exception": false,
     "start_time": "2020-08-30T13:34:16.405040",
     "status": "completed"
    },
    "tags": []
   },
   "outputs": [
    {
     "name": "stdout",
     "output_type": "stream",
     "text": [
      "   age  height_cm  weight_kg  overall  potential  value_eur  wage_eur  \\\n",
      "0   32        170         72       94         94   95500000    565000   \n",
      "1   34        187         83       93         93   58500000    405000   \n",
      "2   27        175         68       92         92  105500000    290000   \n",
      "3   26        188         87       91         93   77500000    125000   \n",
      "4   28        175         74       91         91   90000000    470000   \n",
      "\n",
      "   international_reputation  weak_foot  skill_moves  ...  Position_LM  \\\n",
      "0                         5          4            4  ...            0   \n",
      "1                         5          4            5  ...            0   \n",
      "2                         5          5            5  ...            0   \n",
      "3                         3          3            1  ...            0   \n",
      "4                         4          4            4  ...            0   \n",
      "\n",
      "   Position_LW  Position_LWB  Position_RB  Position_RM  Position_RW  \\\n",
      "0            0             0            0            0            1   \n",
      "1            1             0            0            0            0   \n",
      "2            1             0            0            0            0   \n",
      "3            0             0            0            0            0   \n",
      "4            1             0            0            0            0   \n",
      "\n",
      "   Position_RWB  Position_ST        bmi  cluster_labels  \n",
      "0             0            1  24.913495               3  \n",
      "1             0            1  23.735308               3  \n",
      "2             0            0  22.204082               3  \n",
      "3             0            0  24.615211               4  \n",
      "4             0            0  24.163265               3  \n",
      "\n",
      "[5 rows x 112 columns]\n"
     ]
    }
   ],
   "source": [
    "sample = df.select_dtypes(include='number')\n",
    "print(sample.head())"
   ]
  },
  {
   "cell_type": "markdown",
   "metadata": {
    "papermill": {
     "duration": 0.053166,
     "end_time": "2020-08-30T13:34:16.595585",
     "exception": false,
     "start_time": "2020-08-30T13:34:16.542419",
     "status": "completed"
    },
    "tags": []
   },
   "source": [
    "### 2: Correlation Matrix"
   ]
  },
  {
   "cell_type": "code",
   "execution_count": 34,
   "metadata": {
    "execution": {
     "iopub.execute_input": "2020-08-30T13:34:17.196699Z",
     "iopub.status.busy": "2020-08-30T13:34:17.195722Z",
     "iopub.status.idle": "2020-08-30T13:34:19.439316Z",
     "shell.execute_reply": "2020-08-30T13:34:19.439934Z"
    },
    "papermill": {
     "duration": 2.306865,
     "end_time": "2020-08-30T13:34:19.440101",
     "exception": false,
     "start_time": "2020-08-30T13:34:17.133236",
     "status": "completed"
    },
    "tags": []
   },
   "outputs": [
    {
     "data": {
      "text/plain": [
       "<matplotlib.axes._subplots.AxesSubplot at 0x7f1981e6df90>"
      ]
     },
     "execution_count": 34,
     "metadata": {},
     "output_type": "execute_result"
    },
    {
     "data": {
      "image/png": "[encoded data removed]",
      "text/plain": [
       "<Figure size 864x864 with 2 Axes>"
      ]
     },
     "metadata": {
      "needs_background": "light"
     },
     "output_type": "display_data"
    }
   ],
   "source": [
    "import matplotlib.pyplot as plt\n",
    "import seaborn as sns\n",
    "plt.figure(figsize=(12,12))\n",
    "\n",
    "# Compute the correlation matrix\n",
    "corr = sample.corr()\n",
    "\n",
    "# Generate a mask for the upper triangle\n",
    "mask = np.zeros_like(corr, dtype=np.bool)\n",
    "mask[np.triu_indices_from(mask)] = True\n",
    "\n",
    "# Draw the heatmap with the mask and correct aspect ratio\n",
    "sns.heatmap(corr, mask=mask, cmap=\"GnBu\", vmax=.3, center=0,\n",
    "            square=True, linewidths=.7, cbar_kws={\"shrink\": .7})"
   ]
  },
  {
   "cell_type": "markdown",
   "metadata": {
    "papermill": {
     "duration": 0.056526,
     "end_time": "2020-08-30T13:34:19.553096",
     "exception": false,
     "start_time": "2020-08-30T13:34:19.496570",
     "status": "completed"
    },
    "tags": []
   },
   "source": [
    "From the above correlation chart, we can see a lot of Goalkeepers attributes have a negative correlation with the attributes possessed by a Forward, Midfielder and Defender."
   ]
  },
  {
   "cell_type": "markdown",
   "metadata": {
    "papermill": {
     "duration": 0.055037,
     "end_time": "2020-08-30T13:34:19.663693",
     "exception": false,
     "start_time": "2020-08-30T13:34:19.608656",
     "status": "completed"
    },
    "tags": []
   },
   "source": [
    "### 3: Standardize, implement NearestNeighbors generate 5 similar players"
   ]
  },
  {
   "cell_type": "code",
   "execution_count": 35,
   "metadata": {
    "execution": {
     "iopub.execute_input": "2020-08-30T13:34:19.782718Z",
     "iopub.status.busy": "2020-08-30T13:34:19.781895Z",
     "iopub.status.idle": "2020-08-30T13:36:01.415772Z",
     "shell.execute_reply": "2020-08-30T13:36:01.415063Z"
    },
    "papermill": {
     "duration": 101.696771,
     "end_time": "2020-08-30T13:36:01.415956",
     "exception": false,
     "start_time": "2020-08-30T13:34:19.719185",
     "status": "completed"
    },
    "tags": []
   },
   "outputs": [],
   "source": [
    "scaled = StandardScaler()\n",
    "X = scaled.fit_transform(sample)\n",
    "recommendations = NearestNeighbors(n_neighbors=6,algorithm='kd_tree')\n",
    "recommendations.fit(X)\n",
    "player_index = recommendations.kneighbors(X)[1]\n"
   ]
  },
  {
   "cell_type": "code",
   "execution_count": 36,
   "metadata": {
    "execution": {
     "iopub.execute_input": "2020-08-30T13:36:01.537856Z",
     "iopub.status.busy": "2020-08-30T13:36:01.536758Z",
     "iopub.status.idle": "2020-08-30T13:36:01.540316Z",
     "shell.execute_reply": "2020-08-30T13:36:01.539563Z"
    },
    "papermill": {
     "duration": 0.067808,
     "end_time": "2020-08-30T13:36:01.540450",
     "exception": false,
     "start_time": "2020-08-30T13:36:01.472642",
     "status": "completed"
    },
    "tags": []
   },
   "outputs": [],
   "source": [
    "# Define a function to get Player's Index\n",
    "def get_index(x):\n",
    "    return df[df['short_name']==x].index.tolist()[0]\n",
    "\n",
    "# Fetch 5 indexes of similar players\n",
    "def recommend_similar(player):\n",
    "    print(\"These are 5 players similar to {} : \".format(player))\n",
    "    index=  get_index(player)\n",
    "    for i in player_index[index][1:]:\n",
    "        print(\"Name: {}\\nOverall: {}\\nMarket Value: {}\\nAge: {}\\n\".format(df_20.iloc[i]['short_name'],df_20.iloc[i]['overall'], df_20.iloc[i]['value_eur'], df_20.iloc[i]['age']))"
   ]
  },
  {
   "cell_type": "markdown",
   "metadata": {
    "papermill": {
     "duration": 0.054245,
     "end_time": "2020-08-30T13:36:01.650082",
     "exception": false,
     "start_time": "2020-08-30T13:36:01.595837",
     "status": "completed"
    },
    "tags": []
   },
   "source": [
    "### Test 1: Eden Hazard"
   ]
  },
  {
   "cell_type": "code",
   "execution_count": 37,
   "metadata": {
    "execution": {
     "iopub.execute_input": "2020-08-30T13:36:01.781144Z",
     "iopub.status.busy": "2020-08-30T13:36:01.780004Z",
     "iopub.status.idle": "2020-08-30T13:36:01.785182Z",
     "shell.execute_reply": "2020-08-30T13:36:01.783967Z"
    },
    "papermill": {
     "duration": 0.080992,
     "end_time": "2020-08-30T13:36:01.785354",
     "exception": false,
     "start_time": "2020-08-30T13:36:01.704362",
     "status": "completed"
    },
    "tags": []
   },
   "outputs": [
    {
     "name": "stdout",
     "output_type": "stream",
     "text": [
      "These are 5 players similar to E. Hazard : \n",
      "Name: A. Griezmann\n",
      "Overall: 89\n",
      "Market Value: 69000000\n",
      "Age: 28\n",
      "\n",
      "Name: L. Messi\n",
      "Overall: 94\n",
      "Market Value: 95500000\n",
      "Age: 32\n",
      "\n",
      "Name: Neymar Jr\n",
      "Overall: 92\n",
      "Market Value: 105500000\n",
      "Age: 27\n",
      "\n",
      "Name: K. De Bruyne\n",
      "Overall: 91\n",
      "Market Value: 90000000\n",
      "Age: 28\n",
      "\n",
      "Name: R. Sterling\n",
      "Overall: 88\n",
      "Market Value: 73000000\n",
      "Age: 24\n",
      "\n"
     ]
    }
   ],
   "source": [
    "recommend_similar('E. Hazard')"
   ]
  },
  {
   "cell_type": "markdown",
   "metadata": {
    "papermill": {
     "duration": 0.055097,
     "end_time": "2020-08-30T13:36:01.895986",
     "exception": false,
     "start_time": "2020-08-30T13:36:01.840889",
     "status": "completed"
    },
    "tags": []
   },
   "source": [
    "### Test 2: J. Gomez"
   ]
  },
  {
   "cell_type": "code",
   "execution_count": 38,
   "metadata": {
    "execution": {
     "iopub.execute_input": "2020-08-30T13:36:02.030414Z",
     "iopub.status.busy": "2020-08-30T13:36:02.029397Z",
     "iopub.status.idle": "2020-08-30T13:36:02.038850Z",
     "shell.execute_reply": "2020-08-30T13:36:02.038154Z"
    },
    "papermill": {
     "duration": 0.086727,
     "end_time": "2020-08-30T13:36:02.038982",
     "exception": false,
     "start_time": "2020-08-30T13:36:01.952255",
     "status": "completed"
    },
    "tags": []
   },
   "outputs": [
    {
     "name": "stdout",
     "output_type": "stream",
     "text": [
      "These are 5 players similar to J. Gomez : \n",
      "Name: M. Holgate\n",
      "Overall: 75\n",
      "Market Value: 8000000\n",
      "Age: 22\n",
      "\n",
      "Name: N. Mukiele\n",
      "Overall: 77\n",
      "Market Value: 12000000\n",
      "Age: 21\n",
      "\n",
      "Name: B. Pavard\n",
      "Overall: 79\n",
      "Market Value: 15500000\n",
      "Age: 23\n",
      "\n",
      "Name: A. Tuanzebe\n",
      "Overall: 73\n",
      "Market Value: 6500000\n",
      "Age: 21\n",
      "\n",
      "Name: N. Elvedi\n",
      "Overall: 78\n",
      "Market Value: 13000000\n",
      "Age: 22\n",
      "\n"
     ]
    }
   ],
   "source": [
    "recommend_similar('J. Gomez')"
   ]
  }
 ],
 "metadata": {
  "kernelspec": {
   "display_name": "Python 3 (ipykernel)",
   "language": "python",
   "name": "python3"
  },
  "language_info": {
   "codemirror_mode": {
    "name": "ipython",
    "version": 3
   },
   "file_extension": ".py",
   "mimetype": "text/x-python",
   "name": "python",
   "nbconvert_exporter": "python",
   "pygments_lexer": "ipython3",
   "version": "3.11.3"
  },
  "papermill": {
   "duration": 128.408678,
   "end_time": "2020-08-30T13:36:03.142239",
   "environment_variables": {},
   "exception": null,
   "input_path": "__notebook__.ipynb",
   "output_path": "__notebook__.ipynb",
   "parameters": {},
   "start_time": "2020-08-30T13:33:54.733561",
   "version": "2.1.0"
  }
 },
 "nbformat": 4,
 "nbformat_minor": 4
}
